{
 "cells": [
  {
   "cell_type": "code",
   "execution_count": 1,
   "metadata": {
    "collapsed": true
   },
   "outputs": [],
   "source": [
    "## Adapted from Professor Per-Olof Persson's Math 221 Homework 2 MatLab Scripts\n",
    "## Developed under python3, numpy version 1.13\n",
    "## Tom Hu or Tom Who Hates MatLab @Spring 2018"
   ]
  },
  {
   "cell_type": "code",
   "execution_count": 2,
   "metadata": {
    "collapsed": true
   },
   "outputs": [],
   "source": [
    "import numpy as np\n",
    "np.random.seed(1213)"
   ]
  },
  {
   "cell_type": "code",
   "execution_count": 3,
   "metadata": {
    "collapsed": true
   },
   "outputs": [],
   "source": [
    "def clgs(A):\n",
    "    m, n = np.shape(A)\n",
    "    Q = np.zeros((m, n))\n",
    "    R = np.zeros((n, n))\n",
    "    for j in range(n):\n",
    "        v = A[:,j]\n",
    "        for i in range(j - 1):\n",
    "            R[i,j] = np.matrix.getH(Q[:,i]) * A[:,j]\n",
    "            v = v - R[i, j] * Q[:, i]\n",
    "        R[j, j] = np.linalg.norm(v)\n",
    "        Q[:, j] = v / R[j, j]\n",
    "    return(np.asmatrix(Q), np.asmatrix(R))"
   ]
  },
  {
   "cell_type": "code",
   "execution_count": 4,
   "metadata": {},
   "outputs": [
    {
     "data": {
      "text/plain": [
       "1.0"
      ]
     },
     "execution_count": 4,
     "metadata": {},
     "output_type": "execute_result"
    }
   ],
   "source": [
    "#### Test Scripts\n",
    "\n",
    "A = np.random.rand(3, 2)\n",
    "Q, R = clgs(A)\n",
    "np.linalg.norm(Q[:,0])"
   ]
  },
  {
   "cell_type": "code",
   "execution_count": 5,
   "metadata": {},
   "outputs": [
    {
     "data": {
      "text/plain": [
       "matrix([[ 1.2680158 ,  0.        ],\n",
       "        [ 0.        ,  1.33009534]])"
      ]
     },
     "execution_count": 5,
     "metadata": {},
     "output_type": "execute_result"
    }
   ],
   "source": [
    "R"
   ]
  },
  {
   "cell_type": "code",
   "execution_count": 6,
   "metadata": {},
   "outputs": [
    {
     "data": {
      "text/plain": [
       "matrix([[ True,  True],\n",
       "        [ True,  True],\n",
       "        [ True,  True]], dtype=bool)"
      ]
     },
     "execution_count": 6,
     "metadata": {},
     "output_type": "execute_result"
    }
   ],
   "source": [
    "Q * R == A"
   ]
  },
  {
   "cell_type": "code",
   "execution_count": 7,
   "metadata": {
    "collapsed": true
   },
   "outputs": [],
   "source": [
    "def mgs(A):\n",
    "    m, n = np.shape(A)\n",
    "    V = A\n",
    "    Q = np.zeros((m, n))\n",
    "    R = np.zeros((n, n))\n",
    "    for i in range(n):\n",
    "        R[i, i] = np.linalg.norm(V[:, i])\n",
    "        Q[:, i] = V[:, i] / R[i, i]\n",
    "        for j in range(i + 2, n):\n",
    "            R[i, j] = np.dot(np.matrix.getH(Q[:,i]), (V[:,j]))\n",
    "            V[:, j] = V[:, j] - R[i, j] * Q[:, i]\n",
    "    return(np.asmatrix(Q), np.asmatrix(R))"
   ]
  },
  {
   "cell_type": "code",
   "execution_count": 8,
   "metadata": {},
   "outputs": [
    {
     "data": {
      "text/plain": [
       "0.99999999999999989"
      ]
     },
     "execution_count": 8,
     "metadata": {},
     "output_type": "execute_result"
    }
   ],
   "source": [
    "#### Test Scripts ####\n",
    "\n",
    "A = np.random.rand(3, 2)\n",
    "Q, R = mgs(A)\n",
    "np.linalg.norm(Q[:,0])"
   ]
  },
  {
   "cell_type": "code",
   "execution_count": 9,
   "metadata": {},
   "outputs": [
    {
     "data": {
      "text/plain": [
       "matrix([[ 0.77143422,  0.        ],\n",
       "        [ 0.        ,  0.99699382]])"
      ]
     },
     "execution_count": 9,
     "metadata": {},
     "output_type": "execute_result"
    }
   ],
   "source": [
    "R"
   ]
  },
  {
   "cell_type": "code",
   "execution_count": 10,
   "metadata": {},
   "outputs": [
    {
     "data": {
      "text/plain": [
       "array([[ 0.31824051,  0.76062694],\n",
       "       [ 0.23647385,  0.62614596],\n",
       "       [ 0.6617506 ,  0.15292016]])"
      ]
     },
     "execution_count": 10,
     "metadata": {},
     "output_type": "execute_result"
    }
   ],
   "source": [
    "A"
   ]
  },
  {
   "cell_type": "code",
   "execution_count": 11,
   "metadata": {},
   "outputs": [
    {
     "data": {
      "text/plain": [
       "matrix([[ True,  True],\n",
       "        [ True,  True],\n",
       "        [ True,  True]], dtype=bool)"
      ]
     },
     "execution_count": 11,
     "metadata": {},
     "output_type": "execute_result"
    }
   ],
   "source": [
    "Q * R == A"
   ]
  },
  {
   "cell_type": "code",
   "execution_count": 12,
   "metadata": {
    "collapsed": true
   },
   "outputs": [],
   "source": [
    "## Complex numbers have not been tested with the following scripts\n",
    "## majorly due to numpy has to convert an ndarray to a matrix in order to \n",
    "## compute the conjugate transpose. I would expect the behavior might be weird...\n",
    "\n",
    "def house(A):\n",
    "    m, n = np.shape(A)\n",
    "    W = np.zeros((m, n))\n",
    "    for k in range(n):\n",
    "        v = A[np.ix_(range(k,m), range(k, k+1))]\n",
    "        #print(v)\n",
    "        v[0] = v[0] + (2 * (v[0] >= 0) - 1) * np.linalg.norm(v)\n",
    "        v = v / np.linalg.norm(v)\n",
    "        #print(v)\n",
    "        W[np.ix_(range(k,m), range(k, k+1))] = v\n",
    "        A[np.ix_(range(k, m), range(k, n))] = A[np.ix_(range(k, m), range(k, n))] - 2 * np.outer(v, (np.dot(np.matrix.getH(v), A[np.ix_(range(k, m), range(k, n))])))\n",
    "    R = np.triu(A[np.ix_(range(0, n), range(0, n))])\n",
    "    return(W, R)"
   ]
  },
  {
   "cell_type": "code",
   "execution_count": 13,
   "metadata": {
    "collapsed": true
   },
   "outputs": [],
   "source": [
    "def formQ(W):\n",
    "    m, n = np.shape(W)\n",
    "    Q = np.identity(m)\n",
    "    for k in reversed(range(n)):\n",
    "        Q[np.ix_(range(k,m), range(m))] = Q[np.ix_(range(k,m), range(m))] - 2 * np.dot(W[np.ix_(range(k,m), range(k, k+1))], (np.dot(np.matrix.getH(W[np.ix_(range(k,m), range(k, k+1))]), Q[np.ix_(range(k,m), range(m))])))\n",
    "    return(Q)"
   ]
  },
  {
   "cell_type": "code",
   "execution_count": 14,
   "metadata": {},
   "outputs": [
    {
     "data": {
      "text/plain": [
       "array([[-2.44948974, -4.4907312 ],\n",
       "       [ 0.        ,  1.3540064 ]])"
      ]
     },
     "execution_count": 14,
     "metadata": {},
     "output_type": "execute_result"
    }
   ],
   "source": [
    "#### Test Scripts ####\n",
    "## you can add disp(v) in corresponding place in Professor's MatLab scripts\n",
    "## Note that the . after the number is crucial, you can test without the .\n",
    "## and see what happened. Very interesting failure!\n",
    "\n",
    "A = np.matrix(([1.,3.],[1.,2.],[2.,3.]))\n",
    "#house(A)\n",
    "W, R = house(A)\n",
    "Q = formQ(W)\n",
    "R"
   ]
  },
  {
   "cell_type": "code",
   "execution_count": 15,
   "metadata": {},
   "outputs": [
    {
     "data": {
      "text/plain": [
       "array([[-0.40824829,  0.86164044,  0.30151134],\n",
       "       [-0.40824829,  0.12309149, -0.90453403],\n",
       "       [-0.81649658, -0.49236596,  0.30151134]])"
      ]
     },
     "execution_count": 15,
     "metadata": {},
     "output_type": "execute_result"
    }
   ],
   "source": [
    "Q"
   ]
  }
 ],
 "metadata": {
  "kernelspec": {
   "display_name": "Python [default]",
   "language": "python",
   "name": "python3"
  },
  "language_info": {
   "codemirror_mode": {
    "name": "ipython",
    "version": 3
   },
   "file_extension": ".py",
   "mimetype": "text/x-python",
   "name": "python",
   "nbconvert_exporter": "python",
   "pygments_lexer": "ipython3",
   "version": "3.5.3"
  }
 },
 "nbformat": 4,
 "nbformat_minor": 2
}
